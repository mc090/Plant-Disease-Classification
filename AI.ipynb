{
 "cells": [
  {
   "metadata": {},
   "cell_type": "markdown",
   "source": "# List of imports",
   "id": "4f945081fe7bf4a4"
  },
  {
   "metadata": {
    "ExecuteTime": {
     "end_time": "2024-06-03T15:22:24.784938Z",
     "start_time": "2024-06-03T15:22:24.781521Z"
    }
   },
   "cell_type": "code",
   "source": [
    "from glob import glob\n",
    "from pandas.core.common import flatten"
   ],
   "id": "c8125dd56b5dce7e",
   "outputs": [],
   "execution_count": 3
  },
  {
   "metadata": {},
   "cell_type": "markdown",
   "source": [
    "# Creating datasets\n",
    "Creating train, valid and test datasets. Train and valid sets are split 80/20."
   ],
   "id": "b3409056c4defd"
  },
  {
   "metadata": {
    "ExecuteTime": {
     "end_time": "2024-06-03T16:41:56.235359Z",
     "start_time": "2024-06-03T16:41:55.754705Z"
    }
   },
   "cell_type": "code",
   "source": [
    "train_data_path = 'data\\\\train'\n",
    "test_data_path = 'data\\\\test'\n",
    "\n",
    "classes, test_image_paths, train_image_paths = [], [], []\n",
    "\n",
    "for data_path in glob(train_data_path + '\\\\*'):\n",
    "    classes.append(\" \".join(\" - \".join(data_path.split('\\\\')[-1].split('___')).split('_')))\n",
    "    train_image_paths.append(glob(data_path + '\\\\*'))\n",
    "\n",
    "train_image_paths = list(flatten(train_image_paths))\n",
    "\n",
    "for data_path in glob(test_data_path + '\\\\*'):\n",
    "    test_image_paths.append(glob(data_path + '\\\\*'))\n",
    "\n",
    "test_image_paths = list(flatten(test_image_paths))\n",
    "\n",
    "split_index = int(len(train_image_paths) * 0.8)\n",
    "train_image_paths, valid_image_paths = train_image_paths[:split_index], train_image_paths[split_index:]\n",
    "\n",
    "print('class example: ', classes[0])\n",
    "print('train_image_path example: ', train_image_paths[0])\n",
    "print('test_image_path example: ', test_image_paths[0], end='\\n\\n')\n",
    "\n",
    "print(f'Train size: {len(train_image_paths)}')\n",
    "print(f'Valid size: {len(valid_image_paths)}')\n",
    "print(f'Test size: {len(test_image_paths)}')\n"
   ],
   "id": "b55beffe79e1f5a1",
   "outputs": [
    {
     "name": "stdout",
     "output_type": "stream",
     "text": [
      "class example:  Apple - alternaria leaf spot\n",
      "train_image_path example:  data\\train\\Apple___alternaria_leaf_spot\\000413.jpg\n",
      "test_image_path example:  data\\test\\Apple___healthy\\1001.jpg.jpeg\n",
      "\n",
      "Train size: 76374\n",
      "Valid size: 19094\n",
      "Test size: 2950\n"
     ]
    }
   ],
   "execution_count": 21
  },
  {
   "metadata": {},
   "cell_type": "code",
   "outputs": [],
   "execution_count": null,
   "source": "",
   "id": "ff54d5c783579529"
  }
 ],
 "metadata": {
  "kernelspec": {
   "display_name": "Python 3",
   "language": "python",
   "name": "python3"
  },
  "language_info": {
   "codemirror_mode": {
    "name": "ipython",
    "version": 2
   },
   "file_extension": ".py",
   "mimetype": "text/x-python",
   "name": "python",
   "nbconvert_exporter": "python",
   "pygments_lexer": "ipython2",
   "version": "2.7.6"
  }
 },
 "nbformat": 4,
 "nbformat_minor": 5
}
